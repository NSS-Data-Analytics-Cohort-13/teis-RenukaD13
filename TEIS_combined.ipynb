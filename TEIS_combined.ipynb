{
 "cells": [
  {
   "cell_type": "code",
   "execution_count": null,
   "id": "ec0a6aef-d0ea-4948-862c-ea408eb029a2",
   "metadata": {},
   "outputs": [],
   "source": [
    "# import pandas library\n",
    "import pandas as pd"
   ]
  },
  {
   "cell_type": "code",
   "execution_count": null,
   "id": "d4dd3666-682c-453e-9b58-98a024dcf971",
   "metadata": {},
   "outputs": [],
   "source": [
    "# Read exce; and create a dataframe called as df_eco\n",
    "df_eco = pd.read_excel('../teis-RenukaD13/data/NSS_ECO Data Ind 3 FFY 2023-24 20241211.xlsx' , sheet_name='ECO with Exit23-24 ')\n",
    "df_eco.head()"
   ]
  },
  {
   "cell_type": "code",
   "execution_count": null,
   "id": "47ae2d03-deb1-4e98-8ba2-dccbabab7d08",
   "metadata": {},
   "outputs": [],
   "source": [
    "# create a dataframe with child id information, which satifies 3 conditions. The child must have BDI3 exit date and Child must have either BDI2 entry date or BDI3 entry date in place\n",
    "df_eco_summary = df_eco[(df_eco['BDI 3\\nECO_Exit_DATE'].isnull()== False) & ((df_eco['BDI 3\\nECO_Entry_DATE'].isnull()== False) | (df_eco['BDI2 Entry Date'].isnull()== False))&(df_eco['<Calc> Months in Program']>=6)]\n",
    "df_eco_summary"
   ]
  },
  {
   "cell_type": "code",
   "execution_count": null,
   "id": "19804bee-1fe2-4a88-b9d9-d68e9d08776b",
   "metadata": {},
   "outputs": [],
   "source": [
    "df_eco_summary['CHILD_ID'].nunique()"
   ]
  },
  {
   "cell_type": "code",
   "execution_count": null,
   "id": "19cb9663-3093-469c-8ba2-52483c08edbe",
   "metadata": {
    "scrolled": true
   },
   "outputs": [],
   "source": [
    "# Create a dataframe df_bdi3 from BDI3 excel file\n",
    "df_bdi3 = pd.read_excel('../teis-RenukaD13/data/NSS data_BDI3 Scores 20230101 20240630_Compiled_20241107.xlsx')\n",
    "# Rename TEIDS Child ID to CHILD_ID to match with ECO dataframe\n",
    "df_bdi3 = df_bdi3.rename(columns={'TEIDS Child ID': 'CHILD_ID'})\n",
    "# display data from newly created data frame\n",
    "df_bdi3.head()"
   ]
  },
  {
   "cell_type": "code",
   "execution_count": null,
   "id": "308c4247-2b17-42ce-8f3d-c86e8fada2cd",
   "metadata": {
    "scrolled": true
   },
   "outputs": [],
   "source": [
    "# merge the dataframe with rows with BDI3 with inner join\n",
    "df_filtered_bdi3 = pd.merge(df_eco_summary, df_bdi3, on='CHILD_ID', how = 'inner')\n",
    "df_filtered_bdi3"
   ]
  },
  {
   "cell_type": "code",
   "execution_count": null,
   "id": "bdc1e493-2dbc-4c9d-b53c-426bf9d31131",
   "metadata": {},
   "outputs": [],
   "source": [
    "#Find the count of distinct Child Id from new dataframe\n",
    "df_filtered_bdi3['CHILD_ID'].nunique()"
   ]
  },
  {
   "cell_type": "code",
   "execution_count": null,
   "id": "903bb559-1523-4f1a-b833-b7bbc58e695f",
   "metadata": {
    "scrolled": true
   },
   "outputs": [],
   "source": [
    "#Filtered data for BDI-3\n",
    "bdi3_child_scores = df_bdi3[['CHILD_ID','Adaptive-Self Care Date of Testing','Program Label','Adaptive Developmental Quotient','Adaptive Z-Score','Social-Emotional Developmental Quotient','Social-Emotional Z-Score','Communication Developmental Quotient','Communication Z-Score','Motor Developmental Quotient','Motor Z-Score','Cognitive Developmental Quotient','Cognitive Z-Score','BDI-3 Total Developmental Quotient','BDI-3 Total Z-Score','Adaptive-Self Care RS','Adaptive-Self Care Z-Score','Adaptive-Personal Responsibility RS','Adaptive-Personal Responsibility Z-Score','Social Emotional-Adult Interaction RS','Social Emotional-Adult Interaction Z-Score','Social Emotional-Peer Interaction RS','Social Emotional-Peer Interaction Z-Score','Social Emotional-Self Concept / Social Role RS','Social Emotional-Self Concept / Social Role Z-Score','Communication-Receptive Communication RS','Communication-Receptive Communication Z-Score','Communication-Expressive Communication RS','Communication-Expressive Communication Z-Score','Motor-Gross Motor RS','Motor-Gross Motor Z-Score','Motor-Fine Motor RS','Motor-Fine Motor Z-Score','Motor-Perceptual Motor RS','Motor-Perceptual Motor Z-Score','Cognitive-Attention and Memory RS','Cognitive-Attention and Memory Z-Score','Cognitive-Reasoning / Academic Skills RS','Cognitive-Reasoning / Academic Skills Z-Score','Cognitive-Perception and Concepts RS','Cognitive-Perception and Concepts Z-Score']]\n",
    "bdi3_child_scores"
   ]
  },
  {
   "cell_type": "code",
   "execution_count": null,
   "id": "3c5a9d6c-d707-49f4-a2d7-fa913f19c58e",
   "metadata": {
    "scrolled": true
   },
   "outputs": [],
   "source": [
    "# Rename 'Adaptive-Self Care Date of Testing' column name to 'Testing Date'\n",
    "bdi3_child_scores.rename(columns={'Adaptive-Self Care Date of Testing': 'Testing Date'}, inplace=False)"
   ]
  },
  {
   "cell_type": "code",
   "execution_count": null,
   "id": "70159c69-8373-49fe-bb4c-6fe19c73ec8e",
   "metadata": {
    "scrolled": true
   },
   "outputs": [],
   "source": [
    "# filter bdi3_child_scores dataframe with child id's having BDI3 exit date present\n",
    "bdi3_child_scores = bdi3_child_scores[bdi3_child_scores['CHILD_ID'].isin(df_filtered_bdi3['CHILD_ID'])]\n",
    "bdi3_child_scores"
   ]
  },
  {
   "cell_type": "code",
   "execution_count": null,
   "id": "6f7e636a-a9ff-46d3-ad13-38d9257ade08",
   "metadata": {},
   "outputs": [],
   "source": [
    "# Find distinct child id count\n",
    "bdi3_child_scores['CHILD_ID'].nunique()"
   ]
  },
  {
   "cell_type": "code",
   "execution_count": null,
   "id": "2eb33d41-ec33-4a62-a5db-2a8e9eaaa499",
   "metadata": {},
   "outputs": [],
   "source": [
    "# Read BDI2 csv file\n",
    "df_bdi2 = pd.read_csv('../teis-RenukaD13/data/NSS data_BDI2 scores_20200101-20230131_20241106.csv', low_memory=False, nrows = 31841)\n",
    "df_bdi2.head()"
   ]
  },
  {
   "cell_type": "code",
   "execution_count": null,
   "id": "5391f385-7ecc-40b8-bb31-06099ef2688f",
   "metadata": {},
   "outputs": [],
   "source": [
    "# Pivoting BDI2 dataframe to get a score\n",
    "pivoted_df = df_bdi2.pivot_table(index=['Student TEIDS ID'], columns='domainText', values=['rawScore','DQScore','ZScore'])\n",
    "pivoted_df"
   ]
  },
  {
   "cell_type": "code",
   "execution_count": null,
   "id": "07c65434-ee6f-4a03-b419-e8b197c0aaa0",
   "metadata": {},
   "outputs": [],
   "source": [
    "pivoted_df.columns = [f'{value}_{domain}' for value, domain in pivoted_df.columns]\n",
    "pivoted_df"
   ]
  },
  {
   "cell_type": "code",
   "execution_count": null,
   "id": "0f850891-ff21-461f-a3ea-29f44c6a7dd1",
   "metadata": {},
   "outputs": [],
   "source": [
    "# Normalize the pivited dataframe\n",
    "pivoted_df.reset_index()"
   ]
  },
  {
   "cell_type": "code",
   "execution_count": null,
   "id": "b1a704a3-30a4-46c8-a6b4-3dfb1b3e9ac2",
   "metadata": {},
   "outputs": [],
   "source": []
  },
  {
   "cell_type": "code",
   "execution_count": null,
   "id": "314a08eb-e5a2-43bb-8f0f-31daf1f31d8e",
   "metadata": {},
   "outputs": [],
   "source": []
  },
  {
   "cell_type": "code",
   "execution_count": null,
   "id": "a6ff7457-9309-4c82-bef0-896f75973f71",
   "metadata": {},
   "outputs": [],
   "source": []
  },
  {
   "cell_type": "code",
   "execution_count": null,
   "id": "d4058854-f9f3-45c2-8365-2917d4c5476d",
   "metadata": {},
   "outputs": [],
   "source": []
  },
  {
   "cell_type": "code",
   "execution_count": null,
   "id": "735cc7c6-3aae-4baa-aaa4-a1eb9a027f30",
   "metadata": {},
   "outputs": [],
   "source": []
  }
 ],
 "metadata": {
  "kernelspec": {
   "display_name": "Python 3 (ipykernel)",
   "language": "python",
   "name": "python3"
  },
  "language_info": {
   "codemirror_mode": {
    "name": "ipython",
    "version": 3
   },
   "file_extension": ".py",
   "mimetype": "text/x-python",
   "name": "python",
   "nbconvert_exporter": "python",
   "pygments_lexer": "ipython3",
   "version": "3.12.7"
  }
 },
 "nbformat": 4,
 "nbformat_minor": 5
}
